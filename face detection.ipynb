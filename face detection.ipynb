{
 "cells": [
  {
   "cell_type": "code",
   "execution_count": null,
   "metadata": {},
   "outputs": [
    {
     "name": "stdout",
     "output_type": "stream",
     "text": [
      "381.8181818181818\n"
     ]
    }
   ],
   "source": [
    "import cv2\n",
    "face_cascade = cv2.CascadeClassifier('haarcascade_frontalface_default.xml')\n",
    "\n",
    "#distance calculation from camera to face calcultion\n",
    "known_distance= 30 #centimeter\n",
    "#width of face or broadness  of the face in centimeters or object plane\n",
    "known_width= 14.3 \n",
    "fonts=cv2.FONT_HERSHEY_SIMPLEX\n",
    "def face_data(image):\n",
    "    face_width = 0\n",
    "    gray_image = cv2.cvtColor(image, cv2.COLOR_BGR2GRAY)\n",
    "    faces = face_cascade.detectMultiScale(gray_image, 1.3, 5)\n",
    "    for (x, y, h, w) in faces:\n",
    "        cv2.rectangle(image, (x, y), (x+w, y+h), (255,255,255), 1)\n",
    "        face_width = w\n",
    "\n",
    "    return face_width\n",
    "def FocalLength(measured_distance, real_width, width_in_rf_image):\n",
    "    focal_length=(width_in_rf_image*measured_distance)/real_width\n",
    "    return focal_length\n",
    "def Distance_finder(focal_length,real_face_width,face_width_in_frame):\n",
    "    distance=(real_face_width*focal_length)/face_width_in_frame\n",
    "    return distance\n",
    "#reading face from ref image\n",
    "ref_image = cv2.imread(\"ref_image.jpg\")\n",
    "ref_image_face_width=face_data(ref_image)\n",
    "focal_length_found=FocalLength(known_distance,known_width,ref_image_face_width)\n",
    "print(focal_length_found)\n",
    "cap=cv2.VideoCapture(0)\n",
    "while True:\n",
    "        _, img=cap.read()\n",
    "        face_width_in_frame=face_data(img)\n",
    "        if(face_width_in_frame !=0):\n",
    "            Distance=Distance_finder(focal_length_found, known_width, face_width_in_frame)\n",
    "            cv2.putText(img, f\"Distance={Distance}\",(50,50), fonts,0.6, (255,0,0),2)\n",
    "        #_, img=cap.read()\n",
    "        #gray=cv2.cvtColor(img, cv2.COLOR_BGR2GRAY)\n",
    "        #faces=face_cascade.detectMultiScale(gray,1.1,4)\n",
    "        #\n",
    "        #for(x,y,w,h) in faces:\n",
    "        #    cv2.rectangle(img, (x,y),(x+w,y+h),(255,0,0),2)\n",
    "        #    face_width=w''''\n",
    "        cv2.imshow('img', img)\n",
    "        key=cv2.waitKey(5)\n",
    "        if(key == ord('q')): \n",
    "            break\n",
    "cap.release()"
   ]
  },
  {
   "cell_type": "code",
   "execution_count": null,
   "metadata": {},
   "outputs": [],
   "source": []
  },
  {
   "cell_type": "code",
   "execution_count": null,
   "metadata": {},
   "outputs": [],
   "source": []
  }
 ],
 "metadata": {
  "kernelspec": {
   "display_name": "Python 3",
   "language": "python",
   "name": "python3"
  },
  "language_info": {
   "codemirror_mode": {
    "name": "ipython",
    "version": 3
   },
   "file_extension": ".py",
   "mimetype": "text/x-python",
   "name": "python",
   "nbconvert_exporter": "python",
   "pygments_lexer": "ipython3",
   "version": "3.8.5"
  }
 },
 "nbformat": 4,
 "nbformat_minor": 4
}
